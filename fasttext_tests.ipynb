{
 "cells": [
  {
   "cell_type": "code",
   "execution_count": 17,
   "id": "c141bc53",
   "metadata": {},
   "outputs": [],
   "source": [
    "import time\n",
    "import fasttext\n",
    "from io import StringIO\n",
    "import csv\n",
    "import pandas as pd\n",
    "from scipy import stats\n",
    "import matplotlib\n",
    "import matplotlib.pyplot as plt\n",
    "import seaborn as sns\n",
    "\n",
    "import statsmodels.api as sm\n",
    "\n",
    "from sklearn.metrics import roc_auc_score, roc_curve, accuracy_score, classification_report, confusion_matrix, auc\n",
    "from sklearn.datasets import make_classification\n",
    "from sklearn.model_selection import train_test_split\n",
    "from sklearn.preprocessing import StandardScaler\n",
    "from sklearn.feature_selection import RFE"
   ]
  },
  {
   "cell_type": "markdown",
   "id": "d9d159bf",
   "metadata": {},
   "source": [
    "<h2>FastText IMDB Model</h2>"
   ]
  },
  {
   "cell_type": "code",
   "execution_count": 31,
   "id": "341585a1",
   "metadata": {},
   "outputs": [],
   "source": [
    "imdb_path = \"C:/Users/maddo/CS770_data/project_data/imdb_data\""
   ]
  },
  {
   "cell_type": "code",
   "execution_count": 32,
   "id": "d99af535",
   "metadata": {},
   "outputs": [],
   "source": [
    "# open fasttext-formatted corpus file\n",
    "with open(imdb_path + \"/fasttext_imdb_corpus.txt\", \"r\", encoding=\"utf-8\") as f:\n",
    "    content = f.read()\n",
    "    \n",
    "# get content of corpus as a dataframe\n",
    "# saving corpus to a text file and then splitting it later (in this file) allows for different random splits to be made if desired\n",
    "content = content.replace(\"|||\", '').replace(\"__label__positive\", \"__label__positive|||\").replace(\"__label__negative\", \"__label__negative|||\")\n",
    "df = pd.read_csv(StringIO(content), delimiter=\"\\|\\|\\|\\s*\", header=None, names=['sentiment', 'review'], quoting=3, engine='python')"
   ]
  },
  {
   "cell_type": "code",
   "execution_count": 33,
   "id": "918dc86a",
   "metadata": {},
   "outputs": [],
   "source": [
    "# split data into predictor (review) and sentiment to be predicted\n",
    "X = df['review']\n",
    "y = df['sentiment']\n",
    "\n",
    "# divide dataset into train, test, and validation sets (70, 20, 10 split)\n",
    "X_train, X_temp, y_train, y_temp = train_test_split(X, y, test_size=0.3, random_state=42, stratify=y)\n",
    "X_test, X_tune, y_test, y_tune = train_test_split(X_temp, y_temp, test_size=0.333, random_state=42, stratify=y_temp)\n",
    "\n",
    "# create list of dataframes to iterate through later\n",
    "sets = []\n",
    "setnames = ['train', 'test', 'tune']\n",
    "\n",
    "train = y_train.to_frame().join(X_train) # create training set\n",
    "sets.append(train)\n",
    "\n",
    "test = y_test.to_frame().join(X_test) # create testing set\n",
    "sets.append(test)\n",
    "\n",
    "tune = y_tune.to_frame().join(X_tune) # create validation set\n",
    "sets.append(tune)"
   ]
  },
  {
   "cell_type": "code",
   "execution_count": 34,
   "id": "f4784646",
   "metadata": {},
   "outputs": [],
   "source": [
    "i = 0\n",
    "for set in sets:\n",
    "    # write set contents to file\n",
    "    set.to_csv(f\"{imdb_path}/fasttext_{setnames[i]}_temp.txt\", index=False, sep=\" \", header=False, escapechar=\" \", quoting=csv.QUOTE_NONE)\n",
    "    \n",
    "    with open(f\"{imdb_path}/fasttext_{setnames[i]}_temp.txt\", \"r\", encoding=\"utf-8\") as f:\n",
    "        lines = f.readlines() # read set contents from file\n",
    "    \n",
    "    cleaned_lines = []\n",
    "    for line in lines:\n",
    "        line = line.replace(\"  \", \" \") # clean space padding\n",
    "        cleaned_lines.append(line)\n",
    "\n",
    "    # write fully cleaned set to file for fasttext to use\n",
    "    if setnames[i] == 'tune':\n",
    "        with open(f\"{imdb_path}/fasttext_{setnames[i]}.valid\", \"w\", encoding=\"utf-8\") as f:\n",
    "            f.writelines(cleaned_lines)\n",
    "    else:\n",
    "        with open(f\"{imdb_path}/fasttext_{setnames[i]}.txt\", \"w\", encoding=\"utf-8\") as f:\n",
    "            f.writelines(cleaned_lines)\n",
    "    \n",
    "    i += 1"
   ]
  },
  {
   "cell_type": "code",
   "execution_count": 3,
   "id": "bc71e589",
   "metadata": {},
   "outputs": [],
   "source": [
    "times = [] # initialize list of times taken to train and tune the models"
   ]
  },
  {
   "cell_type": "code",
   "execution_count": 4,
   "id": "a1d214cb",
   "metadata": {},
   "outputs": [
    {
     "name": "stdout",
     "output_type": "stream",
     "text": [
      "Time taken to trian and tune imdb model:\n",
      "358.4954667000002\n"
     ]
    },
    {
     "ename": "NameError",
     "evalue": "name 'model' is not defined",
     "output_type": "error",
     "traceback": [
      "\u001b[1;31m---------------------------------------------------------------------------\u001b[0m",
      "\u001b[1;31mNameError\u001b[0m                                 Traceback (most recent call last)",
      "\u001b[1;32m~\\AppData\\Local\\Temp\\ipykernel_5828\\1359894144.py\u001b[0m in \u001b[0;36m<module>\u001b[1;34m\u001b[0m\n\u001b[0;32m     11\u001b[0m \u001b[0mtimes\u001b[0m\u001b[1;33m.\u001b[0m\u001b[0mappend\u001b[0m\u001b[1;33m(\u001b[0m\u001b[0melapsed_time\u001b[0m\u001b[1;33m)\u001b[0m\u001b[1;33m\u001b[0m\u001b[1;33m\u001b[0m\u001b[0m\n\u001b[0;32m     12\u001b[0m \u001b[1;33m\u001b[0m\u001b[0m\n\u001b[1;32m---> 13\u001b[1;33m \u001b[0mmodel\u001b[0m\u001b[1;33m.\u001b[0m\u001b[0msave_model\u001b[0m\u001b[1;33m(\u001b[0m\u001b[1;34m\"imdb_data/fasttext_imdb_model.bin\"\u001b[0m\u001b[1;33m)\u001b[0m \u001b[1;31m# save model so it can be referenced later\u001b[0m\u001b[1;33m\u001b[0m\u001b[1;33m\u001b[0m\u001b[0m\n\u001b[0m",
      "\u001b[1;31mNameError\u001b[0m: name 'model' is not defined"
     ]
    }
   ],
   "source": [
    "# record start time of training and predicting model\n",
    "start_time = time.perf_counter()\n",
    "\n",
    "# train model and tune on 10% validation set\n",
    "imdb_model = fasttext.train_supervised(imdb_path + '/fasttext_train.txt', autotuneValidationFile=imdb_path + \"/fasttext_tune.valid\")\n",
    "\n",
    "# save total time taken to list of times\n",
    "end_time = time.perf_counter()\n",
    "elapsed_time = end_time - start_time\n",
    "print(\"Time taken to train and tune imdb model:\")\n",
    "print(elapsed_time)\n",
    "times.append(elapsed_time)\n",
    "\n",
    "imdb_model.save_model(imdb_path + \"/fasttext_imdb_model.bin\") # save model so it can be referenced later"
   ]
  },
  {
   "cell_type": "code",
   "execution_count": 35,
   "id": "0c2d7058",
   "metadata": {},
   "outputs": [
    {
     "name": "stderr",
     "output_type": "stream",
     "text": [
      "Warning : `load_model` does not return WordVectorModel or SupervisedModel any more, but a `FastText` object which is very similar.\n"
     ]
    },
    {
     "name": "stdout",
     "output_type": "stream",
     "text": [
      "Manually-Calculated Model F1 Score:\n",
      "0.8995502248875562\n",
      "\n",
      "Confusion Matrix:\n",
      "[[4523  480]\n",
      " [ 525 4477]]\n",
      "\n",
      "Classification Report:\n",
      "              precision    recall  f1-score   support\n",
      "\n",
      "    positive       0.90      0.90      0.90      5002\n",
      "    negative       0.90      0.90      0.90      5003\n",
      "\n",
      "    accuracy                           0.90     10005\n",
      "   macro avg       0.90      0.90      0.90     10005\n",
      "weighted avg       0.90      0.90      0.90     10005\n",
      "\n"
     ]
    }
   ],
   "source": [
    "imdb_model = fasttext.load_model(imdb_path + \"/fasttext_imdb_model.bin\") # load the previously created model\n",
    "\n",
    "result = imdb_model.test(imdb_path + \"/fasttext_test.txt\") # use built-in test function to get precision, recall\n",
    "print(\"Manually-Calculated Model F1 Score:\")\n",
    "print((2 * result[1] * result[2]) / (result[1] + result[2])) # calculate F1 score from built-in test\n",
    "\n",
    "# loop through each of the model's predictions in order to get confusion matrix and classification report\n",
    "true_labels = []\n",
    "texts = []\n",
    "with open(imdb_path + \"/fasttext_test.txt\", \"r\", encoding=\"utf-8\") as f:\n",
    "    for line in f:\n",
    "        label, text = line.split(\" \", 1) # split at space after __label__sentiment\n",
    "        true_labels.append(label.strip())\n",
    "        texts.append(text.strip())\n",
    "        \n",
    "predicted_labels = [imdb_model.predict(text)[0][0] for text in texts] # predict each entry in the data\n",
    "\n",
    "\n",
    "# print confusion matrix and classification report\n",
    "cm = confusion_matrix(true_labels, predicted_labels, labels=[\"__label__positive\", \"__label__negative\"])\n",
    "print(\"\\nConfusion Matrix:\")\n",
    "print(cm)\n",
    "\n",
    "print(\"\\nClassification Report:\")\n",
    "print(classification_report(true_labels, predicted_labels, target_names=[\"positive\", \"negative\"]))"
   ]
  },
  {
   "cell_type": "code",
   "execution_count": 36,
   "id": "3d8efd0a",
   "metadata": {},
   "outputs": [
    {
     "data": {
      "image/png": "[encoded data removed]",
      "text/plain": [
       "<Figure size 640x480 with 1 Axes>"
      ]
     },
     "metadata": {},
     "output_type": "display_data"
    }
   ],
   "source": [
    "# print the roc-auc curve of the model\n",
    "# do this by iterating through each data point and noting the positive probability of each prediction\n",
    "\n",
    "true_labels = []  # List of true labels\n",
    "predicted_probs = []  # List of predicted probabilities for the positive class\n",
    "\n",
    "# Read the test data and predict probabilities\n",
    "with open(imdb_path + \"/fasttext_test.txt\", \"r\", encoding=\"utf-8\") as f:\n",
    "    for line in f:\n",
    "        label, text = line.split(\" \", 1)\n",
    "        true_labels.append(label.strip())\n",
    "\n",
    "        # Get probabilities for both classes\n",
    "        predictions, probabilities = imdb_model.predict(text.strip(), k=2)\n",
    "\n",
    "        # Save the probability of the positive class\n",
    "        prob_positive = probabilities[predictions.index(\"__label__positive\")]\n",
    "        predicted_probs.append(prob_positive)\n",
    "\n",
    "# Compute ROC curve and AUC\n",
    "fpr, tpr, thresholds = roc_curve(true_labels, predicted_probs, pos_label=\"__label__positive\")\n",
    "roc_auc = auc(fpr, tpr)\n",
    "\n",
    "plt.figure()\n",
    "plt.plot(fpr, tpr, color='red', lw=2, label=f'ROC curve (area = {roc_auc:.2f})')\n",
    "plt.plot([0, 1], [0, 1], color='navy', lw=2, linestyle='--')\n",
    "plt.xlabel('False Positive Rate')\n",
    "plt.ylabel('True Positive Rate')\n",
    "plt.title('Receiver Operating Characteristic')\n",
    "plt.legend(loc=\"lower right\")\n",
    "plt.show()"
   ]
  },
  {
   "cell_type": "markdown",
   "id": "d063ed7d",
   "metadata": {},
   "source": [
    "<h2>FastText Yelp Polarity Model</h2>"
   ]
  },
  {
   "cell_type": "code",
   "execution_count": null,
   "id": "0ccb5c05",
   "metadata": {},
   "outputs": [],
   "source": [
    "yelp_path = \"C:/Users/maddo/CS770_data/project_data/yelp_data\""
   ]
  },
  {
   "cell_type": "code",
   "execution_count": 23,
   "id": "1526fa81",
   "metadata": {},
   "outputs": [],
   "source": [
    "# open fasttext-formatted corpus file\n",
    "with open(yelp_path + \"/fasttext_yelp_corpus.txt\", \"r\", encoding=\"utf-8\") as f:\n",
    "    content = f.read()\n",
    "    \n",
    "# get content of corpus as a dataframe\n",
    "# saving corpus to a text file and then splitting it later (in this file) allows for different random splits to be made if desired\n",
    "content = content.replace(\"|||\", '').replace(\"__label__positive\", \"__label__positive|||\").replace(\"__label__negative\", \"__label__negative|||\")\n",
    "df = pd.read_csv(StringIO(content), delimiter=\"\\|\\|\\|\\s*\", header=None, names=['sentiment', 'review'], quoting=3, engine='python')"
   ]
  },
  {
   "cell_type": "code",
   "execution_count": 24,
   "id": "a6035f83",
   "metadata": {},
   "outputs": [],
   "source": [
    "# split data into predictor (review) and sentiment to be predicted\n",
    "X = df['review']\n",
    "y = df['sentiment']\n",
    "\n",
    "# divide dataset into train, test, and validation sets (70, 20, 10 split)\n",
    "X_train, X_temp, y_train, y_temp = train_test_split(X, y, test_size=0.3, random_state=42, stratify=y)\n",
    "X_test, X_tune, y_test, y_tune = train_test_split(X_temp, y_temp, test_size=0.333, random_state=42, stratify=y_temp)\n",
    "\n",
    "# create list of dataframes to iterate through later\n",
    "sets = []\n",
    "setnames = ['train', 'test', 'tune']\n",
    "\n",
    "train = y_train.to_frame().join(X_train) # create training set\n",
    "sets.append(train)\n",
    "\n",
    "test = y_test.to_frame().join(X_test) # create testing set\n",
    "sets.append(test)\n",
    "\n",
    "tune = y_tune.to_frame().join(X_tune) # create validation set\n",
    "sets.append(tune)"
   ]
  },
  {
   "cell_type": "code",
   "execution_count": 25,
   "id": "6d43dc44",
   "metadata": {},
   "outputs": [],
   "source": [
    "i = 0\n",
    "for set in sets:\n",
    "    # write set contents to file\n",
    "    set.to_csv(f\"{yelp_path}/fasttext_{setnames[i]}_temp.txt\", index=False, sep=\" \", header=False, escapechar=\" \", quoting=csv.QUOTE_NONE)\n",
    "    \n",
    "    with open(f\"{yelp_path}/fasttext_{setnames[i]}_temp.txt\", \"r\", encoding=\"utf-8\") as f:\n",
    "        lines = f.readlines() # read set contents from file\n",
    "    \n",
    "    cleaned_lines = []\n",
    "    for line in lines:\n",
    "        line = line.replace(\"  \", \" \") # clean space padding\n",
    "        cleaned_lines.append(line)\n",
    "\n",
    "    # write fully cleaned set to file for fasttext to use\n",
    "    if setnames[i] == 'tune':\n",
    "        with open(f\"{yelp_path}/fasttext_{setnames[i]}.valid\", \"w\", encoding=\"utf-8\") as f:\n",
    "            f.writelines(cleaned_lines)\n",
    "    else:\n",
    "        with open(f\"{yelp_path}/fasttext_{setnames[i]}.txt\", \"w\", encoding=\"utf-8\") as f:\n",
    "            f.writelines(cleaned_lines)\n",
    "    \n",
    "    i += 1"
   ]
  },
  {
   "cell_type": "code",
   "execution_count": 26,
   "id": "9fc660ac",
   "metadata": {},
   "outputs": [
    {
     "name": "stdout",
     "output_type": "stream",
     "text": [
      "Time taken to train and tune yelp model:\n",
      "409.0782589999999\n"
     ]
    }
   ],
   "source": [
    "# record start time of training and predicting model\n",
    "start_time = time.perf_counter()\n",
    "\n",
    "# train model and tune on 10% validation set\n",
    "yelp_model = fasttext.train_supervised(yelp_path + '/fasttext_train.txt', autotuneValidationFile=yelp_path + '/fasttext_tune.valid')\n",
    "\n",
    "# save total time taken to list of times\n",
    "end_time = time.perf_counter()\n",
    "elapsed_time = end_time - start_time\n",
    "print(\"Time taken to train and tune yelp model:\")\n",
    "print(elapsed_time)\n",
    "times.append(elapsed_time)\n",
    "\n",
    "yelp_model.save_model(yelp_path + \"/fasttext_yelp_model.bin\") # save model so it can be referenced later"
   ]
  },
  {
   "cell_type": "code",
   "execution_count": 27,
   "id": "9eaac271",
   "metadata": {},
   "outputs": [
    {
     "name": "stderr",
     "output_type": "stream",
     "text": [
      "Warning : `load_model` does not return WordVectorModel or SupervisedModel any more, but a `FastText` object which is very similar.\n"
     ]
    },
    {
     "name": "stdout",
     "output_type": "stream",
     "text": [
      "Manually-Calculated Model F1 Score:\n",
      "0.94484007996002\n",
      "\n",
      "Confusion Matrix:\n",
      "[[52857  3171]\n",
      " [ 3010 53018]]\n",
      "\n",
      "Classification Report:\n",
      "              precision    recall  f1-score   support\n",
      "\n",
      "    positive       0.94      0.95      0.94     56028\n",
      "    negative       0.95      0.94      0.94     56028\n",
      "\n",
      "    accuracy                           0.94    112056\n",
      "   macro avg       0.94      0.94      0.94    112056\n",
      "weighted avg       0.94      0.94      0.94    112056\n",
      "\n"
     ]
    }
   ],
   "source": [
    "yelp_model = fasttext.load_model(yelp_path + \"/fasttext_yelp_model.bin\") # load the previously created model\n",
    "\n",
    "result = yelp_model.test(yelp_path + \"/fasttext_test.txt\") # use built-in test function to get precision, recall\n",
    "print(\"Manually-Calculated Model F1 Score:\")\n",
    "print((2 * result[1] * result[2]) / (result[1] + result[2])) # calculate F1 score from built-in test\n",
    "\n",
    "# loop through each of the model's predictions in order to get confusion matrix and classification report\n",
    "true_labels = []\n",
    "texts = []\n",
    "with open(yelp_path + \"/fasttext_test.txt\", \"r\", encoding=\"utf-8\") as f:\n",
    "    for line in f:\n",
    "        label, text = line.split(\" \", 1) # split at space after __label__sentiment\n",
    "        true_labels.append(label.strip())\n",
    "        texts.append(text.strip())\n",
    "        \n",
    "predicted_labels = [yelp_model.predict(text)[0][0] for text in texts] # predict each entry in the data\n",
    "\n",
    "\n",
    "# print confusion matrix and classification report\n",
    "cm = confusion_matrix(true_labels, predicted_labels, labels=[\"__label__positive\", \"__label__negative\"])\n",
    "print(\"\\nConfusion Matrix:\")\n",
    "print(cm)\n",
    "\n",
    "print(\"\\nClassification Report:\")\n",
    "print(classification_report(true_labels, predicted_labels, target_names=[\"positive\", \"negative\"]))"
   ]
  },
  {
   "cell_type": "code",
   "execution_count": 28,
   "id": "0b2e67f3",
   "metadata": {},
   "outputs": [
    {
     "data": {
      "image/png": "[encoded data removed]",
      "text/plain": [
       "<Figure size 640x480 with 1 Axes>"
      ]
     },
     "metadata": {},
     "output_type": "display_data"
    }
   ],
   "source": [
    "# print the roc-auc curve of the model\n",
    "# do this by iterating through each data point and noting the positive probability of each prediction\n",
    "\n",
    "true_labels = []  # List of true labels\n",
    "predicted_probs = []  # List of predicted probabilities for the positive class\n",
    "\n",
    "# Read the test data and predict probabilities\n",
    "with open(yelp_path + \"/fasttext_test.txt\", \"r\", encoding=\"utf-8\") as f:\n",
    "    for line in f:\n",
    "        label, text = line.split(\" \", 1)\n",
    "        true_labels.append(label.strip())\n",
    "\n",
    "        # Get probabilities for both classes\n",
    "        predictions, probabilities = yelp_model.predict(text.strip(), k=2)\n",
    "\n",
    "        # Save the probability of the positive class\n",
    "        prob_positive = probabilities[predictions.index(\"__label__positive\")]\n",
    "        predicted_probs.append(prob_positive)\n",
    "\n",
    "# Compute ROC curve and AUC\n",
    "fpr, tpr, thresholds = roc_curve(true_labels, predicted_probs, pos_label=\"__label__positive\")\n",
    "roc_auc = auc(fpr, tpr)\n",
    "\n",
    "plt.figure()\n",
    "plt.plot(fpr, tpr, color='red', lw=2, label=f'ROC curve (area = {roc_auc:.2f})')\n",
    "plt.plot([0, 1], [0, 1], color='navy', lw=2, linestyle='--')\n",
    "plt.xlabel('False Positive Rate')\n",
    "plt.ylabel('True Positive Rate')\n",
    "plt.title('Receiver Operating Characteristic')\n",
    "plt.legend(loc=\"lower right\")\n",
    "plt.show()"
   ]
  },
  {
   "cell_type": "code",
   "execution_count": null,
   "id": "2704232a",
   "metadata": {},
   "outputs": [],
   "source": []
  }
 ],
 "metadata": {
  "kernelspec": {
   "display_name": "Python 3 (ipykernel)",
   "language": "python",
   "name": "python3"
  },
  "language_info": {
   "codemirror_mode": {
    "name": "ipython",
    "version": 3
   },
   "file_extension": ".py",
   "mimetype": "text/x-python",
   "name": "python",
   "nbconvert_exporter": "python",
   "pygments_lexer": "ipython3",
   "version": "3.9.13"
  }
 },
 "nbformat": 4,
 "nbformat_minor": 5
}
