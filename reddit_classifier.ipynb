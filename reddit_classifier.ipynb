{
 "cells": [
  {
   "cell_type": "code",
   "execution_count": 1,
   "id": "09130721",
   "metadata": {},
   "outputs": [],
   "source": [
    "import pandas as pd\n",
    "import numpy as np\n",
    "import time\n",
    "import json\n",
    "\n",
    "from scipy import stats\n",
    "\n",
    "import matplotlib\n",
    "import matplotlib.pyplot as plt\n",
    "\n",
    "import statsmodels.api as sm\n",
    "\n",
    "from sklearn.model_selection import train_test_split, GridSearchCV\n",
    "from sklearn.svm import SVC, LinearSVC\n",
    "from sklearn.linear_model import LogisticRegressionCV, SGDClassifier\n",
    "from sklearn.metrics import classification_report, confusion_matrix, accuracy_score\n",
    "from sklearn.ensemble import RandomForestClassifier\n",
    "from sklearn.feature_extraction.text import CountVectorizer, TfidfVectorizer\n",
    "from sklearn.preprocessing import StandardScaler\n",
    "from sklearn.decomposition import TruncatedSVD\n",
    "\n",
    "%matplotlib inline"
   ]
  },
  {
   "cell_type": "code",
   "execution_count": 2,
   "id": "fa9084c7",
   "metadata": {},
   "outputs": [],
   "source": [
    "# load json file containing reddit post data\n",
    "with open('reddit_data/aita_data.json') as f:\n",
    "    raw_data = json.load(f)\n",
    "\n",
    "# get posts as a dataframe\n",
    "data = pd.json_normalize(raw_data['posts']).drop_duplicates()\n",
    "\n",
    "data = data[['selftext', 'link_flair_text']]\n",
    "data = data.rename(columns={'selftext': 'content', 'link_flair_text': 'verdict'})\n",
    "data['content'] = data['content'].apply(lambda x: x.strip())\n",
    "\n",
    "# convert verdicts into either 0 (nta), or 1 (yta)\n",
    "data['verdict'] = data['verdict'].replace({'Asshole' : 1, 'Asshole POO Mode' : 1, 'Not the A-hole' : 0, 'Not the A-hole POO Mode' : 0})"
   ]
  },
  {
   "cell_type": "code",
   "execution_count": 3,
   "id": "09afd7a7",
   "metadata": {},
   "outputs": [],
   "source": [
    "X = data['content']\n",
    "y = data['verdict']"
   ]
  },
  {
   "cell_type": "code",
   "execution_count": 4,
   "id": "174caa78",
   "metadata": {},
   "outputs": [],
   "source": [
    "X_train, X_test, y_train, y_test = train_test_split(X, y, test_size=0.3, random_state=42)"
   ]
  },
  {
   "cell_type": "code",
   "execution_count": 5,
   "id": "e3350ea2",
   "metadata": {},
   "outputs": [
    {
     "name": "stdout",
     "output_type": "stream",
     "text": [
      "Time Taken to Train and Scale Raw Text Data:\n",
      "23.6464751 Seconds\n"
     ]
    }
   ],
   "source": [
    "# record start time of training and predicting model\n",
    "start_time = time.perf_counter()\n",
    "\n",
    "# use same parameters for sparse vectorization as in imdb classifiers\n",
    "vectorizer = TfidfVectorizer(analyzer='char_wb', ngram_range=(3,6), min_df=5)\n",
    "X_train_vectors = vectorizer.fit_transform(X_train)\n",
    "X_test_vectors = vectorizer.transform(X_test)\n",
    "\n",
    "svd = TruncatedSVD(n_components=300, random_state=42)\n",
    "X_train_dense = svd.fit_transform(X_train_vectors)\n",
    "X_test_dense = svd.transform(X_test_vectors)\n",
    "\n",
    "scaler = StandardScaler()\n",
    "X_train_scaled = scaler.fit_transform(X_train_dense)\n",
    "X_test_scaled = scaler.transform(X_test_dense)\n",
    "\n",
    "# get total time taken to train and scale\n",
    "end_time = time.perf_counter()\n",
    "initial_elapsed_time = end_time - start_time\n",
    "\n",
    "print(\"Time Taken to Train and Scale Raw Text Data:\")\n",
    "print(str(initial_elapsed_time) + \" Seconds\")"
   ]
  },
  {
   "cell_type": "code",
   "execution_count": 6,
   "id": "15737494",
   "metadata": {},
   "outputs": [],
   "source": [
    "# initialize time and model accuracy lists\n",
    "times = []\n",
    "accuracies = []"
   ]
  },
  {
   "cell_type": "code",
   "execution_count": 7,
   "id": "4ef5c907",
   "metadata": {},
   "outputs": [
    {
     "name": "stdout",
     "output_type": "stream",
     "text": [
      "Tuned Regularization Strength:\n",
      "[0.00393493]\n",
      "\n",
      "Total Time Taken to Train and Evaluate Model:\n",
      "30.228129399999997 Seconds\n",
      "\n",
      "Confusion Matrix:\n",
      "[[324 107]\n",
      " [169 187]]\n",
      "\n",
      "Classification Report:\n",
      "              precision    recall  f1-score   support\n",
      "\n",
      "           0       0.66      0.75      0.70       431\n",
      "           1       0.64      0.53      0.58       356\n",
      "\n",
      "    accuracy                           0.65       787\n",
      "   macro avg       0.65      0.64      0.64       787\n",
      "weighted avg       0.65      0.65      0.64       787\n",
      "\n"
     ]
    }
   ],
   "source": [
    "# C values to try in logistic regression\n",
    "cs = np.logspace(-4, 3, num=80)\n",
    "\n",
    "# record start time of training and predicting model\n",
    "start_time = time.perf_counter()\n",
    "\n",
    "# logistic regression with augmented stochastic average gradient\n",
    "logisticcv_clf = LogisticRegressionCV(solver='saga', Cs=cs, max_iter=1000, n_jobs=-1)\n",
    "logisticcv_clf.fit(X_train_scaled, y_train)\n",
    "y_pred = logisticcv_clf.predict(X_test_scaled)\n",
    "\n",
    "# get total time taken to train model and predict\n",
    "end_time = time.perf_counter()\n",
    "elapsed_time = end_time - start_time\n",
    "times.append(elapsed_time + initial_elapsed_time)\n",
    "\n",
    "accuracies.append(accuracy_score(y_test, y_pred))\n",
    "\n",
    "print(\"Tuned Regularization Strength:\")\n",
    "print(logisticcv_clf.C_)\n",
    "\n",
    "print(\"\\nTotal Time Taken to Train and Evaluate Model:\")\n",
    "print(str(elapsed_time + initial_elapsed_time) + \" Seconds\")\n",
    "\n",
    "print(\"\\nConfusion Matrix:\")\n",
    "print(confusion_matrix(y_test, y_pred))\n",
    "\n",
    "print(\"\\nClassification Report:\")\n",
    "print(classification_report(y_test, y_pred))"
   ]
  },
  {
   "cell_type": "code",
   "execution_count": 8,
   "id": "d9a98318",
   "metadata": {},
   "outputs": [
    {
     "name": "stdout",
     "output_type": "stream",
     "text": [
      "Tuned Regularization Strength:\n",
      "{'C': 0.001}\n",
      "\n",
      "Total Time Taken to Train and Evaluate Model:\n",
      "31.6094082 Seconds\n",
      "\n",
      "Confusion Matrix:\n",
      "[[307 124]\n",
      " [162 194]]\n",
      "\n",
      "Classification Report:\n",
      "              precision    recall  f1-score   support\n",
      "\n",
      "           0       0.65      0.71      0.68       431\n",
      "           1       0.61      0.54      0.58       356\n",
      "\n",
      "    accuracy                           0.64       787\n",
      "   macro avg       0.63      0.63      0.63       787\n",
      "weighted avg       0.63      0.64      0.63       787\n",
      "\n"
     ]
    }
   ],
   "source": [
    "param_grid = {'C': [.001, .01, .1, 1]}\n",
    "\n",
    "# record start time of training and predicting model\n",
    "start_time = time.perf_counter()\n",
    "\n",
    "# svm using linear kernel\n",
    "svc_clf = LinearSVC(loss='hinge', max_iter=14000, tol=1e-2)\n",
    "\n",
    "grid_search = GridSearchCV(svc_clf, param_grid, scoring='accuracy', n_jobs=-1)\n",
    "grid_search.fit(X_train_scaled, y_train)\n",
    "best_svc = grid_search.best_estimator_\n",
    "\n",
    "y_pred = best_svc.predict(X_test_scaled)\n",
    "\n",
    "# get total time taken to train model and predict\n",
    "end_time = time.perf_counter()\n",
    "elapsed_time = end_time - start_time\n",
    "times.append(elapsed_time + initial_elapsed_time)\n",
    "\n",
    "accuracies.append(accuracy_score(y_test, y_pred))\n",
    "\n",
    "print(\"Tuned Regularization Strength:\")\n",
    "print(grid_search.best_params_)\n",
    "\n",
    "print(\"\\nTotal Time Taken to Train and Evaluate Model:\")\n",
    "print(str(elapsed_time + initial_elapsed_time) + \" Seconds\")\n",
    "\n",
    "print(\"\\nConfusion Matrix:\")\n",
    "print(confusion_matrix(y_test, y_pred))\n",
    "\n",
    "print(\"\\nClassification Report:\")\n",
    "print(classification_report(y_test, y_pred))"
   ]
  },
  {
   "cell_type": "code",
   "execution_count": 9,
   "id": "7d72d2c7",
   "metadata": {},
   "outputs": [
    {
     "name": "stdout",
     "output_type": "stream",
     "text": [
      "Tuned Alpha Value:\n",
      "{'alpha': 0.01}\n",
      "\n",
      "Total Time Taken to Train and Evaluate Model:\n",
      "24.32230460000002 Seconds\n",
      "\n",
      "Confusion Matrix:\n",
      "[[297 134]\n",
      " [143 213]]\n",
      "\n",
      "Classification Report:\n",
      "              precision    recall  f1-score   support\n",
      "\n",
      "           0       0.68      0.69      0.68       431\n",
      "           1       0.61      0.60      0.61       356\n",
      "\n",
      "    accuracy                           0.65       787\n",
      "   macro avg       0.64      0.64      0.64       787\n",
      "weighted avg       0.65      0.65      0.65       787\n",
      "\n"
     ]
    }
   ],
   "source": [
    "param_grid = {'alpha': [.00001, .0001, .001, .01, .1, 1]}\n",
    "\n",
    "# record start time of training and predicting model\n",
    "start_time = time.perf_counter()\n",
    "\n",
    "# svm with stochastic gradient descent training\n",
    "sgdlog_clf = SGDClassifier(loss='hinge', n_jobs=-1)\n",
    "\n",
    "grid_search_2 = GridSearchCV(sgdlog_clf, param_grid, scoring='accuracy', n_jobs=-1)\n",
    "grid_search_2.fit(X_train_scaled, y_train)\n",
    "best_sgdlog = grid_search_2.best_estimator_\n",
    "\n",
    "y_pred = best_sgdlog.predict(X_test_scaled)\n",
    "\n",
    "# get total time taken to train model and predict\n",
    "end_time = time.perf_counter()\n",
    "elapsed_time = end_time - start_time\n",
    "times.append(elapsed_time + initial_elapsed_time)\n",
    "\n",
    "accuracies.append(accuracy_score(y_test, y_pred))\n",
    "\n",
    "print(\"Tuned Alpha Value:\")\n",
    "print(grid_search_2.best_params_)\n",
    "\n",
    "print(\"\\nTotal Time Taken to Train and Evaluate Model:\")\n",
    "print(str(elapsed_time + initial_elapsed_time) + \" Seconds\")\n",
    "\n",
    "print(\"\\nConfusion Matrix:\")\n",
    "print(confusion_matrix(y_test, y_pred))\n",
    "\n",
    "print(\"\\nClassification Report:\")\n",
    "print(classification_report(y_test, y_pred))"
   ]
  },
  {
   "cell_type": "code",
   "execution_count": 10,
   "id": "f2b94299",
   "metadata": {},
   "outputs": [
    {
     "name": "stdout",
     "output_type": "stream",
     "text": [
      "Tuned Number of Trees in Forest:\n",
      "{'n_estimators': 500}\n",
      "\n",
      "Total Time Taken to Train and Evaluate Model:\n",
      "56.154303 Seconds\n",
      "\n",
      "Confusion Matrix:\n",
      "[[425   6]\n",
      " [225 131]]\n",
      "\n",
      "Classification Report:\n",
      "              precision    recall  f1-score   support\n",
      "\n",
      "           0       0.65      0.99      0.79       431\n",
      "           1       0.96      0.37      0.53       356\n",
      "\n",
      "    accuracy                           0.71       787\n",
      "   macro avg       0.81      0.68      0.66       787\n",
      "weighted avg       0.79      0.71      0.67       787\n",
      "\n"
     ]
    }
   ],
   "source": [
    "param_grid = {'n_estimators': [400, 500, 600]}\n",
    "\n",
    "# record start time of training and predicting model\n",
    "start_time = time.perf_counter()\n",
    "\n",
    "# random forest classifier\n",
    "forest_clf = RandomForestClassifier(random_state=42, n_jobs=-1)\n",
    "\n",
    "grid_search_3 = GridSearchCV(forest_clf, param_grid, scoring='accuracy', n_jobs=-1)\n",
    "grid_search_3.fit(X_train_scaled, y_train)\n",
    "best_forest = grid_search_3.best_estimator_\n",
    "\n",
    "y_pred = best_forest.predict(X_test_scaled)\n",
    "\n",
    "# get total time taken to train model and predict\n",
    "end_time = time.perf_counter()\n",
    "elapsed_time = end_time - start_time\n",
    "times.append(elapsed_time + initial_elapsed_time)\n",
    "\n",
    "accuracies.append(accuracy_score(y_test, y_pred))\n",
    "\n",
    "print(\"Tuned Number of Trees in Forest:\")\n",
    "print(grid_search_3.best_params_)\n",
    "\n",
    "print(\"\\nTotal Time Taken to Train and Evaluate Model:\")\n",
    "print(str(elapsed_time + initial_elapsed_time) + \" Seconds\")\n",
    "\n",
    "print(\"\\nConfusion Matrix:\")\n",
    "print(confusion_matrix(y_test, y_pred))\n",
    "\n",
    "print(\"\\nClassification Report:\")\n",
    "print(classification_report(y_test, y_pred))"
   ]
  },
  {
   "cell_type": "code",
   "execution_count": 11,
   "id": "e35adb66",
   "metadata": {},
   "outputs": [
    {
     "data": {
      "image/png": "[encoded data removed]",
      "text/plain": [
       "<Figure size 640x480 with 1 Axes>"
      ]
     },
     "metadata": {},
     "output_type": "display_data"
    },
    {
     "data": {
      "image/png": "[encoded data removed]",
      "text/plain": [
       "<Figure size 640x480 with 1 Axes>"
      ]
     },
     "metadata": {},
     "output_type": "display_data"
    }
   ],
   "source": [
    "models = ['Logistic Regression', 'SVM', 'SVM w/ SGD', 'Random Forest']\n",
    "colors = ['r', 'chartreuse', 'dodgerblue', 'blueviolet']\n",
    "\n",
    "fig, ax = plt.subplots()\n",
    "bars = ax.bar(models, times, color=colors)\n",
    "ax.bar_label(bars)\n",
    "plt.title(\"Time Taken for Training and Prediction of Each Model\")\n",
    "plt.xticks(rotation=90)\n",
    "plt.show()\n",
    "\n",
    "fig, ax = plt.subplots()\n",
    "bars = ax.bar(models, accuracies, color=colors)\n",
    "ax.bar_label(bars)\n",
    "plt.title(\"Accuracy of Each Model\")\n",
    "plt.xticks(rotation=90)\n",
    "plt.show()"
   ]
  }
 ],
 "metadata": {
  "kernelspec": {
   "display_name": "Python 3 (ipykernel)",
   "language": "python",
   "name": "python3"
  },
  "language_info": {
   "codemirror_mode": {
    "name": "ipython",
    "version": 3
   },
   "file_extension": ".py",
   "mimetype": "text/x-python",
   "name": "python",
   "nbconvert_exporter": "python",
   "pygments_lexer": "ipython3",
   "version": "3.9.13"
  }
 },
 "nbformat": 4,
 "nbformat_minor": 5
}
