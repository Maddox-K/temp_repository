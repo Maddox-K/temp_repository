{
 "cells": [
  {
   "cell_type": "code",
   "execution_count": 1,
   "id": "19cf7674",
   "metadata": {},
   "outputs": [],
   "source": [
    "import pandas as pd\n",
    "import numpy as np\n",
    "import time\n",
    "\n",
    "from scipy import stats\n",
    "\n",
    "import matplotlib\n",
    "import matplotlib.pyplot as plt\n",
    "\n",
    "import statsmodels.api as sm\n",
    "\n",
    "from sklearn.model_selection import train_test_split, GridSearchCV\n",
    "from sklearn.svm import SVC, LinearSVC\n",
    "from sklearn.linear_model import LogisticRegressionCV, SGDClassifier\n",
    "from sklearn.metrics import classification_report, confusion_matrix, accuracy_score\n",
    "from sklearn.ensemble import RandomForestClassifier\n",
    "from sklearn.feature_extraction.text import CountVectorizer, TfidfVectorizer\n",
    "from sklearn.preprocessing import StandardScaler\n",
    "from sklearn.decomposition import TruncatedSVD\n",
    "\n",
    "%matplotlib inline"
   ]
  },
  {
   "cell_type": "code",
   "execution_count": 2,
   "id": "b63bf417",
   "metadata": {},
   "outputs": [],
   "source": [
    "df = pd.read_csv(\"imdb_data/IMDB Dataset.csv\")\n",
    "\n",
    "df['review'] = df['review'].str.replace(\"<br /><br />\", \" \").str.replace('\\u200b', '').str.strip()"
   ]
  },
  {
   "cell_type": "code",
   "execution_count": 3,
   "id": "3a070e31",
   "metadata": {},
   "outputs": [],
   "source": [
    "# X contains text contents of reviews, y contains labeled sentiment\n",
    "X = df['review']\n",
    "y = df['sentiment']"
   ]
  },
  {
   "cell_type": "code",
   "execution_count": 4,
   "id": "7f9bc909",
   "metadata": {},
   "outputs": [],
   "source": [
    "# split the data into training, testing and validation data\n",
    "X_train, X_test, y_train, y_test = train_test_split(X, y, test_size=0.4, random_state=42)"
   ]
  },
  {
   "cell_type": "code",
   "execution_count": 5,
   "id": "ec3d6ba4",
   "metadata": {},
   "outputs": [
    {
     "name": "stdout",
     "output_type": "stream",
     "text": [
      "Time Taken to Train and Scale Raw Text Data:\n",
      "316.9778776 Seconds\n"
     ]
    }
   ],
   "source": [
    "# record start time of data training model\n",
    "start_time = time.perf_counter()\n",
    "\n",
    "# tfidf vectorizer using character n-grams (with bounds), n-gram range of 3-6 letters, and keep words in vocab that appear at least 5 times\n",
    "vectorizer = TfidfVectorizer(analyzer='char_wb', ngram_range=(3,6), min_df=5)\n",
    "X_train_vectors = vectorizer.fit_transform(X_train)\n",
    "X_test_vectors = vectorizer.transform(X_test)\n",
    "\n",
    "# dimensionality reduction of sparce vectors from vectorization\n",
    "# convert sparse vectors into dense word embedding vectors\n",
    "# somewhat of an imitation of fasttext's word embedding hidden layer\n",
    "svd = TruncatedSVD(n_components=300, random_state=42)\n",
    "X_train_dense = svd.fit_transform(X_train_vectors)\n",
    "X_test_dense = svd.transform(X_test_vectors)\n",
    "\n",
    "# scale resulting data\n",
    "scaler = StandardScaler()\n",
    "X_train_scaled = scaler.fit_transform(X_train_dense)\n",
    "X_test_scaled = scaler.transform(X_test_dense)\n",
    "\n",
    "# get total time taken to train and scale\n",
    "end_time = time.perf_counter()\n",
    "initial_elapsed_time = end_time - start_time\n",
    "\n",
    "print(\"Time Taken to Train and Scale Raw Text Data:\")\n",
    "print(str(initial_elapsed_time) + \" Seconds\")"
   ]
  },
  {
   "cell_type": "code",
   "execution_count": 6,
   "id": "0a13f53b",
   "metadata": {},
   "outputs": [],
   "source": [
    "# initialize time and model accuracy lists\n",
    "times = []\n",
    "accuracies = []"
   ]
  },
  {
   "cell_type": "code",
   "execution_count": 7,
   "id": "7f87a299",
   "metadata": {},
   "outputs": [
    {
     "name": "stdout",
     "output_type": "stream",
     "text": [
      "Tuned Regularization Strength:\n",
      "[0.01091377]\n",
      "\n",
      "Total Time Taken to Train and Evaluate Model:\n",
      "371.8310198000001 Seconds\n",
      "\n",
      "Confusion Matrix:\n",
      "[[8652 1337]\n",
      " [1167 8844]]\n",
      "\n",
      "Classification Report:\n",
      "              precision    recall  f1-score   support\n",
      "\n",
      "    negative       0.88      0.87      0.87      9989\n",
      "    positive       0.87      0.88      0.88     10011\n",
      "\n",
      "    accuracy                           0.87     20000\n",
      "   macro avg       0.87      0.87      0.87     20000\n",
      "weighted avg       0.87      0.87      0.87     20000\n",
      "\n"
     ]
    }
   ],
   "source": [
    "# C values to try in logistic regression\n",
    "cs = np.logspace(-4, 3, num=80)\n",
    "\n",
    "# record start time of training and predicting model\n",
    "start_time = time.perf_counter()\n",
    "\n",
    "# logistic regression with augmented stochastic average gradient\n",
    "logisticcv_clf = LogisticRegressionCV(solver='saga', Cs=cs, max_iter=1000, n_jobs=-1)\n",
    "logisticcv_clf.fit(X_train_scaled, y_train)\n",
    "y_pred = logisticcv_clf.predict(X_test_scaled)\n",
    "\n",
    "# get total time taken to train model and predict\n",
    "end_time = time.perf_counter()\n",
    "elapsed_time = end_time - start_time\n",
    "times.append(elapsed_time + initial_elapsed_time)\n",
    "\n",
    "accuracies.append(accuracy_score(y_test, y_pred))\n",
    "\n",
    "print(\"Tuned Regularization Strength:\")\n",
    "print(logisticcv_clf.C_)\n",
    "\n",
    "print(\"\\nTotal Time Taken to Train and Evaluate Model:\")\n",
    "print(str(elapsed_time + initial_elapsed_time) + \" Seconds\")\n",
    "\n",
    "print(\"\\nConfusion Matrix:\")\n",
    "print(confusion_matrix(y_test, y_pred))\n",
    "\n",
    "print(\"\\nClassification Report:\")\n",
    "print(classification_report(y_test, y_pred))"
   ]
  },
  {
   "cell_type": "code",
   "execution_count": 8,
   "id": "f83705dc",
   "metadata": {},
   "outputs": [
    {
     "name": "stdout",
     "output_type": "stream",
     "text": [
      "Tuned Regularization Strength:\n",
      "{'C': 0.1}\n",
      "\n",
      "Total Time Taken to Train and Evaluate Model:\n",
      "358.68873720000005 Seconds\n",
      "\n",
      "Confusion Matrix:\n",
      "[[8658 1331]\n",
      " [1171 8840]]\n",
      "\n",
      "Classification Report:\n",
      "              precision    recall  f1-score   support\n",
      "\n",
      "    negative       0.88      0.87      0.87      9989\n",
      "    positive       0.87      0.88      0.88     10011\n",
      "\n",
      "    accuracy                           0.87     20000\n",
      "   macro avg       0.88      0.87      0.87     20000\n",
      "weighted avg       0.87      0.87      0.87     20000\n",
      "\n"
     ]
    }
   ],
   "source": [
    "param_grid = {'C': [.001, .01, .1, 1]}\n",
    "\n",
    "# record start time of training and predicting model\n",
    "start_time = time.perf_counter()\n",
    "\n",
    "# svm using linear kernel\n",
    "svc_clf = LinearSVC(loss='hinge', max_iter=14000, tol=1e-2)\n",
    "\n",
    "grid_search = GridSearchCV(svc_clf, param_grid, scoring='accuracy', n_jobs=-1)\n",
    "grid_search.fit(X_train_scaled, y_train)\n",
    "best_svc = grid_search.best_estimator_\n",
    "\n",
    "y_pred = best_svc.predict(X_test_scaled)\n",
    "\n",
    "# get total time taken to train model and predict\n",
    "end_time = time.perf_counter()\n",
    "elapsed_time = end_time - start_time\n",
    "times.append(elapsed_time + initial_elapsed_time)\n",
    "\n",
    "accuracies.append(accuracy_score(y_test, y_pred))\n",
    "\n",
    "print(\"Tuned Regularization Strength:\")\n",
    "print(grid_search.best_params_)\n",
    "\n",
    "print(\"\\nTotal Time Taken to Train and Evaluate Model:\")\n",
    "print(str(elapsed_time + initial_elapsed_time) + \" Seconds\")\n",
    "\n",
    "print(\"\\nConfusion Matrix:\")\n",
    "print(confusion_matrix(y_test, y_pred))\n",
    "\n",
    "print(\"\\nClassification Report:\")\n",
    "print(classification_report(y_test, y_pred))"
   ]
  },
  {
   "cell_type": "code",
   "execution_count": 9,
   "id": "41680477",
   "metadata": {},
   "outputs": [
    {
     "name": "stdout",
     "output_type": "stream",
     "text": [
      "Tuned Alpha Value:\n",
      "{'alpha': 0.01}\n",
      "\n",
      "Total Time Taken to Train and Evaluate Model:\n",
      "325.339541 Seconds\n",
      "\n",
      "Confusion Matrix:\n",
      "[[8647 1342]\n",
      " [1179 8832]]\n",
      "\n",
      "Classification Report:\n",
      "              precision    recall  f1-score   support\n",
      "\n",
      "    negative       0.88      0.87      0.87      9989\n",
      "    positive       0.87      0.88      0.88     10011\n",
      "\n",
      "    accuracy                           0.87     20000\n",
      "   macro avg       0.87      0.87      0.87     20000\n",
      "weighted avg       0.87      0.87      0.87     20000\n",
      "\n"
     ]
    }
   ],
   "source": [
    "param_grid = {'alpha': [.00001, .0001, .001, .01, .1, 1]}\n",
    "\n",
    "# record start time of training and predicting model\n",
    "start_time = time.perf_counter()\n",
    "\n",
    "# svm with stochastic gradient descent training\n",
    "sgdlog_clf = SGDClassifier(loss='hinge', n_jobs=-1)\n",
    "\n",
    "grid_search_2 = GridSearchCV(sgdlog_clf, param_grid, scoring='accuracy', n_jobs=-1)\n",
    "grid_search_2.fit(X_train_scaled, y_train)\n",
    "best_sgdlog = grid_search_2.best_estimator_\n",
    "\n",
    "y_pred = best_sgdlog.predict(X_test_scaled)\n",
    "\n",
    "# get total time taken to train model and predict\n",
    "end_time = time.perf_counter()\n",
    "elapsed_time = end_time - start_time\n",
    "times.append(elapsed_time + initial_elapsed_time)\n",
    "\n",
    "accuracies.append(accuracy_score(y_test, y_pred))\n",
    "\n",
    "print(\"Tuned Alpha Value:\")\n",
    "print(grid_search_2.best_params_)\n",
    "\n",
    "print(\"\\nTotal Time Taken to Train and Evaluate Model:\")\n",
    "print(str(elapsed_time + initial_elapsed_time) + \" Seconds\")\n",
    "\n",
    "print(\"\\nConfusion Matrix:\")\n",
    "print(confusion_matrix(y_test, y_pred))\n",
    "\n",
    "print(\"\\nClassification Report:\")\n",
    "print(classification_report(y_test, y_pred))"
   ]
  },
  {
   "cell_type": "code",
   "execution_count": 10,
   "id": "614101f3",
   "metadata": {},
   "outputs": [
    {
     "name": "stdout",
     "output_type": "stream",
     "text": [
      "Tuned Number of Trees in Forest:\n",
      "{'n_estimators': 600}\n",
      "\n",
      "Total Time Taken to Train and Evaluate Model:\n",
      "1158.0524463 Seconds\n",
      "\n",
      "Confusion Matrix:\n",
      "[[8096 1893]\n",
      " [1774 8237]]\n",
      "\n",
      "Classification Report:\n",
      "              precision    recall  f1-score   support\n",
      "\n",
      "    negative       0.82      0.81      0.82      9989\n",
      "    positive       0.81      0.82      0.82     10011\n",
      "\n",
      "    accuracy                           0.82     20000\n",
      "   macro avg       0.82      0.82      0.82     20000\n",
      "weighted avg       0.82      0.82      0.82     20000\n",
      "\n"
     ]
    }
   ],
   "source": [
    "param_grid = {'n_estimators': [400, 500, 600]}\n",
    "\n",
    "# record start time of training and predicting model\n",
    "start_time = time.perf_counter()\n",
    "\n",
    "# random forest classifier\n",
    "forest_clf = RandomForestClassifier(random_state=42, n_jobs=-1)\n",
    "\n",
    "grid_search_3 = GridSearchCV(forest_clf, param_grid, scoring='accuracy', n_jobs=-1)\n",
    "grid_search_3.fit(X_train_scaled, y_train)\n",
    "best_forest = grid_search_3.best_estimator_\n",
    "\n",
    "y_pred = best_forest.predict(X_test_scaled)\n",
    "\n",
    "# get total time taken to train model and predict\n",
    "end_time = time.perf_counter()\n",
    "elapsed_time = end_time - start_time\n",
    "times.append(elapsed_time + initial_elapsed_time)\n",
    "\n",
    "accuracies.append(accuracy_score(y_test, y_pred))\n",
    "\n",
    "print(\"Tuned Number of Trees in Forest:\")\n",
    "print(grid_search_3.best_params_)\n",
    "\n",
    "print(\"\\nTotal Time Taken to Train and Evaluate Model:\")\n",
    "print(str(elapsed_time + initial_elapsed_time) + \" Seconds\")\n",
    "\n",
    "print(\"\\nConfusion Matrix:\")\n",
    "print(confusion_matrix(y_test, y_pred))\n",
    "\n",
    "print(\"\\nClassification Report:\")\n",
    "print(classification_report(y_test, y_pred))"
   ]
  },
  {
   "cell_type": "code",
   "execution_count": 11,
   "id": "39025561",
   "metadata": {},
   "outputs": [
    {
     "data": {
      "image/png": "[encoded data removed]",
      "text/plain": [
       "<Figure size 640x480 with 1 Axes>"
      ]
     },
     "metadata": {},
     "output_type": "display_data"
    },
    {
     "data": {
      "image/png": "[encoded data removed]",
      "text/plain": [
       "<Figure size 640x480 with 1 Axes>"
      ]
     },
     "metadata": {},
     "output_type": "display_data"
    }
   ],
   "source": [
    "models = ['Logistic Regression', 'SVM', 'SVM w/ SGD', 'Random Forest']\n",
    "colors = ['r', 'chartreuse', 'dodgerblue', 'blueviolet']\n",
    "\n",
    "fig, ax = plt.subplots()\n",
    "bars = ax.bar(models, times, color=colors)\n",
    "ax.bar_label(bars)\n",
    "plt.title(\"Time Taken for Training and Prediction of Each Model\")\n",
    "plt.xticks(rotation=90)\n",
    "plt.show()\n",
    "\n",
    "fig, ax = plt.subplots()\n",
    "bars = ax.bar(models, accuracies, color=colors)\n",
    "ax.bar_label(bars)\n",
    "plt.title(\"Accuracy of Each Model\")\n",
    "plt.xticks(rotation=90)\n",
    "plt.show()"
   ]
  }
 ],
 "metadata": {
  "kernelspec": {
   "display_name": "Python 3 (ipykernel)",
   "language": "python",
   "name": "python3"
  },
  "language_info": {
   "codemirror_mode": {
    "name": "ipython",
    "version": 3
   },
   "file_extension": ".py",
   "mimetype": "text/x-python",
   "name": "python",
   "nbconvert_exporter": "python",
   "pygments_lexer": "ipython3",
   "version": "3.9.13"
  }
 },
 "nbformat": 4,
 "nbformat_minor": 5
}
